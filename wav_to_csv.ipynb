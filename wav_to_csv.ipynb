{
 "cells": [
  {
   "cell_type": "markdown",
   "id": "4204b999",
   "metadata": {},
   "source": [
    "## Convert wav file to csv file"
   ]
  },
  {
   "cell_type": "code",
   "execution_count": 17,
   "id": "daa60b7e",
   "metadata": {},
   "outputs": [
    {
     "name": "stdout",
     "output_type": "stream",
     "text": [
      "Input file number:1\n",
      "WARNING!! Input File format should be *.wav\n"
     ]
    },
    {
     "ename": "SystemExit",
     "evalue": "",
     "output_type": "error",
     "traceback": [
      "An exception has occurred, use %tb to see the full traceback.\n",
      "\u001b[1;31mSystemExit\u001b[0m\n"
     ]
    },
    {
     "name": "stderr",
     "output_type": "stream",
     "text": [
      "C:\\Users\\EBIN ANTONY\\anaconda3\\lib\\site-packages\\IPython\\core\\interactiveshell.py:3445: UserWarning: To exit: use 'exit', 'quit', or Ctrl-D.\n",
      "  warn(\"To exit: use 'exit', 'quit', or Ctrl-D.\", stacklevel=1)\n"
     ]
    }
   ],
   "source": [
    "import sys, os, os.path\n",
    "from scipy.io import wavfile\n",
    "import pandas as pd\n",
    "\n",
    "import sys, os, os.path\n",
    "from scipy.io import wavfile\n",
    "import pandas as pd\n",
    "\n",
    "input_filename = input(\"Input file number:\")\n",
    "if input_filename[-3:] != 'wav':\n",
    "    print('WARNING!! Input File format should be *.wav')\n",
    "    sys.exit()"
   ]
  },
  {
   "cell_type": "code",
   "execution_count": 18,
   "id": "9c125942",
   "metadata": {},
   "outputs": [
    {
     "name": "stdout",
     "output_type": "stream",
     "text": [
      "Load is Done! \n",
      "\n"
     ]
    }
   ],
   "source": [
    "samrate, data = wavfile.read(str(r\"C:\\Users\\EBIN ANTONY\\Desktop\\ee\\audio1.wav\"))\n",
    "print('Load is Done! \\n')"
   ]
  },
  {
   "cell_type": "code",
   "execution_count": 19,
   "id": "303caf25",
   "metadata": {},
   "outputs": [
    {
     "name": "stdout",
     "output_type": "stream",
     "text": [
      "Mono .wav file\n",
      "\n",
      "Save is done _Output_mono.csv\n"
     ]
    }
   ],
   "source": [
    "wavData = pd.DataFrame(data)\n",
    "\n",
    "if len(wavData.columns) == 2:\n",
    "    print('Stereo .wav file\\n')\n",
    "    wavData.columns = ['R', 'L']\n",
    "    stereo_R = pd.DataFrame(wavData['R'])\n",
    "    stereo_L = pd.DataFrame(wavData['L'])\n",
    "    print('Saving...\\n')\n",
    "    stereo_R.to_csv(str(input_filename[:-4] + \"_Output_stereo_R.csv\"), mode='w')\n",
    "    stereo_L.to_csv(str(input_filename[:-4] + \"_Output_stereo_L.csv\"), mode='w')\n",
    "    # wavData.to_csv(\"Output_stereo_RL.csv\", mode='w')\n",
    "    print('Save is done ' + str(input_filename[:-4]) + '_Output_stereo_R.csv , '\n",
    "                          + str(input_filename[:-4]) + '_Output_stereo_L.csv')\n",
    "\n",
    "elif len(wavData.columns) == 1:\n",
    "    print('Mono .wav file\\n')\n",
    "    wavData.columns = ['M']\n",
    "\n",
    "    wavData.to_csv(str(input_filename[:-4] + \"_Output_mono.csv\"), mode='w')\n",
    "\n",
    "    print('Save is done ' + str(input_filename[:-4]) + '_Output_mono.csv')\n",
    "\n",
    "else:\n",
    "    print('Multi channel .wav file\\n')\n",
    "    print('number of channel : ' + len(wavData.columns) + '\\n')\n",
    "    wavData.to_csv(str(input_filename[:-4] + \"Output_multi_channel.csv\"), mode='w')\n",
    "\n",
    "    print('Save is done ' + str(input_filename[:-4]) + 'Output_multi_channel.csv')"
   ]
  },
  {
   "cell_type": "markdown",
   "id": "d0ea6f3d",
   "metadata": {},
   "source": [
    "### Read CSV file"
   ]
  },
  {
   "cell_type": "code",
   "execution_count": 20,
   "id": "f06e4ffb",
   "metadata": {},
   "outputs": [
    {
     "name": "stdout",
     "output_type": "stream",
     "text": [
      "   T  S\n",
      "0  0  0\n",
      "1  1  0\n",
      "2  2 -1\n",
      "3  3  0\n",
      "4  4  0\n"
     ]
    }
   ],
   "source": [
    "df = pd.read_csv(r\"C:\\Users\\EBIN ANTONY\\Desktop\\ee\\_Output_mono.csv\")\n",
    "df.columns = ['T','S']\n",
    "print(df.head())"
   ]
  },
  {
   "cell_type": "code",
   "execution_count": 21,
   "id": "9128793f",
   "metadata": {},
   "outputs": [
    {
     "name": "stdout",
     "output_type": "stream",
     "text": [
      "             T    S\n",
      "203323  203323  182\n",
      "203324  203324  370\n",
      "203325  203325  470\n",
      "203326  203326  291\n",
      "203327  203327  104\n"
     ]
    }
   ],
   "source": [
    "print(df.tail())"
   ]
  },
  {
   "cell_type": "code",
   "execution_count": 16,
   "id": "cc67fa64",
   "metadata": {},
   "outputs": [
    {
     "data": {
      "image/png": "[encoded data removed]",
      "text/plain": [
       "<Figure size 432x288 with 1 Axes>"
      ]
     },
     "metadata": {
      "needs_background": "light"
     },
     "output_type": "display_data"
    }
   ],
   "source": [
    "# Visualize data\n",
    "\n",
    "x = df['T']\n",
    "y = df['S']\n",
    "\n",
    "import matplotlib.pyplot as plt\n",
    "plt.plot(x, y)\n",
    "plt.xlabel('Time', fontsize = 16)\n",
    "plt.ylabel('Signal', fontsize = 16)\n",
    "plt.show()"
   ]
  },
  {
   "cell_type": "code",
   "execution_count": null,
   "id": "74d8148a",
   "metadata": {},
   "outputs": [],
   "source": []
  }
 ],
 "metadata": {
  "kernelspec": {
   "display_name": "Python 3",
   "language": "python",
   "name": "python3"
  },
  "language_info": {
   "codemirror_mode": {
    "name": "ipython",
    "version": 3
   },
   "file_extension": ".py",
   "mimetype": "text/x-python",
   "name": "python",
   "nbconvert_exporter": "python",
   "pygments_lexer": "ipython3",
   "version": "3.8.8"
  }
 },
 "nbformat": 4,
 "nbformat_minor": 5
}
